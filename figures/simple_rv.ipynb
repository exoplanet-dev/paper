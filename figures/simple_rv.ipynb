{
 "cells": [
  {
   "cell_type": "code",
   "execution_count": null,
   "metadata": {},
   "outputs": [],
   "source": [
    "%matplotlib inline"
   ]
  },
  {
   "cell_type": "code",
   "execution_count": null,
   "metadata": {},
   "outputs": [],
   "source": [
    "%run notebook_setup"
   ]
  },
  {
   "cell_type": "code",
   "execution_count": null,
   "metadata": {},
   "outputs": [],
   "source": [
    "import time\n",
    "import numpy as np\n",
    "import pandas as pd\n",
    "import matplotlib.pyplot as plt\n",
    "\n",
    "import emcee\n",
    "\n",
    "import pymc3 as pm\n",
    "import theano.tensor as tt\n",
    "\n",
    "import exoplanet as xo\n",
    "\n",
    "url = \"epic203771098.csv\"\n",
    "data = pd.read_csv(url, index_col=0)\n",
    "\n",
    "x = np.array(data.t)\n",
    "y = np.array(data.vel)\n",
    "yerr = np.array(data.errvel)\n",
    "\n",
    "plt.errorbar(x, y, yerr=yerr, fmt=\".k\")\n",
    "plt.xlabel(\"time [days]\")\n",
    "plt.ylabel(\"radial velocity [m/s]\");"
   ]
  },
  {
   "cell_type": "code",
   "execution_count": null,
   "metadata": {},
   "outputs": [],
   "source": [
    "periods = [20.8851, 42.3633]\n",
    "period_errs = [0.0003, 0.0006]\n",
    "t0s = [2072.7948, 2082.6251]\n",
    "t0_errs = [0.0007, 0.0004]\n",
    "Ks = xo.estimate_semi_amplitude(periods, x, y, yerr, t0s=t0s)\n",
    "print(Ks, \"m/s\")"
   ]
  },
  {
   "cell_type": "code",
   "execution_count": null,
   "metadata": {},
   "outputs": [],
   "source": [
    "with pm.Model() as model:\n",
    "        \n",
    "    # Gaussian priors based on transit data (from Petigura et al.)\n",
    "    t0 = pm.Normal(\"t0\", mu=np.array(t0s), sd=np.array(t0_errs), shape=2)\n",
    "    BoundedNormal = pm.Bound(pm.Normal, lower=0.0, upper=100.0)\n",
    "    P = BoundedNormal(\n",
    "        \"P\", mu=np.array(periods), sd=np.array(period_errs), shape=2,\n",
    "        testval=np.array(periods))\n",
    "\n",
    "    # Wide log-normal prior for semi-amplitude\n",
    "    logK = pm.Uniform(\"logK\", lower=0, upper=np.log(50),\n",
    "                      testval=np.log(Ks), shape=2)\n",
    "        \n",
    "    # Jitter & a quadratic RV trend\n",
    "    logs = pm.Normal(\"logs\", mu=np.log(np.median(yerr)), sd=5.0)\n",
    "    trend = pm.Normal(\"trend\", mu=0, sd=10.0**-np.arange(3)[::-1], shape=3)\n",
    "        \n",
    "    # Set up the orbit\n",
    "    orbit = xo.orbits.KeplerianOrbit(period=P, t0=t0)\n",
    "    \n",
    "    # Set up the RV model and save it as a deterministic\n",
    "    # for plotting purposes later\n",
    "    vrad = orbit.get_radial_velocity(x, K=tt.exp(logK))\n",
    "    \n",
    "    # Define the background model\n",
    "    A = np.vander(x - 0.5*(x.min() + x.max()), 3)\n",
    "    bkg = tt.dot(A, trend)\n",
    "    \n",
    "    # Sum over planets and add the background to get the full model\n",
    "    rv_model = tt.sum(vrad, axis=-1) + bkg\n",
    "    \n",
    "    # Likelihood\n",
    "    err = tt.sqrt(yerr**2 + tt.exp(2*logs))\n",
    "    pm.Normal(\"obs\", mu=rv_model, sd=err, observed=y)\n",
    "    \n",
    "    map_soln = model.test_point\n",
    "    map_soln = xo.optimize(start=map_soln, vars=[trend])\n",
    "    map_soln = xo.optimize(start=map_soln, vars=[logs])\n",
    "    map_soln = xo.optimize(start=map_soln, vars=[logK])\n",
    "    map_soln = xo.optimize(start=map_soln)"
   ]
  },
  {
   "cell_type": "code",
   "execution_count": null,
   "metadata": {},
   "outputs": [],
   "source": [
    "np.random.seed(42)\n",
    "sampler = xo.PyMC3Sampler(start=200, window=100, finish=300)\n",
    "with model:\n",
    "    burnin = sampler.tune(tune=4000, start=model.test_point,\n",
    "                          step_kwargs=dict(target_accept=0.95))"
   ]
  },
  {
   "cell_type": "code",
   "execution_count": null,
   "metadata": {},
   "outputs": [],
   "source": [
    "with model:\n",
    "    strt = time.time()\n",
    "    trace = sampler.sample(draws=5000, cores=1)\n",
    "    time_xo = time.time() - strt"
   ]
  },
  {
   "cell_type": "code",
   "execution_count": null,
   "metadata": {},
   "outputs": [],
   "source": [
    "xo_samples = np.array(trace.get_values(\"logK\", combine=False))\n",
    "xo_samples = np.moveaxis(xo_samples, 0, 1)\n",
    "tau_xo = emcee.autocorr.integrated_time(xo_samples)\n",
    "neff_xo = np.prod(xo_samples.shape[:2]) / tau_xo\n",
    "teff_xo = time_xo / neff_xo\n",
    "teff_xo"
   ]
  },
  {
   "cell_type": "code",
   "execution_count": null,
   "metadata": {},
   "outputs": [],
   "source": [
    "np.random.seed(42)\n",
    "\n",
    "with model:\n",
    "    func = xo.get_theano_function_for_var([model.logpt] + model.deterministics)\n",
    "    \n",
    "    def logprob(theta):\n",
    "        point = model.bijection.rmap(theta)\n",
    "        args = xo.get_args_for_theano_function(point)\n",
    "        return tuple(func(*args))\n",
    "    \n",
    "    x0 = model.bijection.map(map_soln)\n",
    "    initial_blobs = logprob(x0)[1:]\n",
    "    dtype = [(var.name, float, np.shape(b)) for var, b in\n",
    "             zip(model.deterministics, initial_blobs)]\n",
    "    nwalkers = 36\n",
    "    ndim = len(x0)\n",
    "    x0 = x0 + 1e-5 * np.random.randn(nwalkers, ndim)\n",
    "    \n",
    "    emcee_sampler = emcee.EnsembleSampler(nwalkers, ndim, logprob, blobs_dtype=dtype)\n",
    "    state = emcee_sampler.run_mcmc(x0, 2000, progress=True)\n",
    "    emcee_sampler.reset()\n",
    "    strt = time.time()\n",
    "    emcee_sampler.run_mcmc(state, 50000, progress=True)\n",
    "    time_emcee = time.time() - strt"
   ]
  },
  {
   "cell_type": "code",
   "execution_count": null,
   "metadata": {},
   "outputs": [],
   "source": [
    "emcee_samples = emcee_sampler.get_blobs()\n",
    "emcee_samples = emcee_samples[\"logK\"]\n",
    "tau_emcee = emcee.autocorr.integrated_time(emcee_samples)\n",
    "neff_emcee = np.prod(emcee_samples.shape[:2]) / tau_emcee\n",
    "teff_emcee = time_emcee / neff_emcee\n",
    "teff_emcee"
   ]
  },
  {
   "cell_type": "code",
   "execution_count": null,
   "metadata": {},
   "outputs": [],
   "source": [
    "def get_function(x):\n",
    "    n_t, n_w = x.shape\n",
    "    f = np.zeros(n_t)\n",
    "    for k in range(n_w):\n",
    "        f += emcee.autocorr.function_1d(x[:, k])\n",
    "    f /= n_w\n",
    "    return f\n",
    "\n",
    "fig, axes = plt.subplots(2, 2, figsize=(10, 8))\n",
    "\n",
    "ax = axes[0, 0]\n",
    "t_emcee = np.linspace(0, time_emcee, emcee_samples.shape[0])\n",
    "m = t_emcee < 5\n",
    "ax.plot(t_emcee[m], np.exp(emcee_samples[m, 5, 0]), lw=0.75)\n",
    "ax.annotate(\"emcee\", xy=(0, 1), xycoords=\"axes fraction\",\n",
    "            ha=\"left\", va=\"top\", fontsize=16,\n",
    "            xytext=(5, -5), textcoords=\"offset points\")\n",
    "ax.set_ylabel(\"$K_b$ [m/s]\")\n",
    "ax.set_xlim(0, 5)\n",
    "ax.set_ylim(1, 8)\n",
    "ax.set_xticklabels([])\n",
    "\n",
    "ax = axes[1, 0]\n",
    "t_xo = np.linspace(0, time_xo, xo_samples.shape[0])\n",
    "m = t_xo < 5\n",
    "ax.plot(t_xo[m], np.exp(xo_samples[m, 0, 0]), lw=0.75)\n",
    "ax.annotate(\"exoplanet\", xy=(0, 1), xycoords=\"axes fraction\",\n",
    "            ha=\"left\", va=\"top\", fontsize=16,\n",
    "            xytext=(5, -5), textcoords=\"offset points\")\n",
    "ax.set_ylabel(\"$K_b$ [m/s]\")\n",
    "ax.set_xlabel(\"walltime [sec]\")\n",
    "ax.set_xlim(0, 5)\n",
    "ax.set_ylim(1, 8)\n",
    "\n",
    "ax = axes[0, 1]\n",
    "f_emcee = get_function(np.exp(emcee_samples[:, :, 0]))\n",
    "scale = time_emcee / np.prod(emcee_samples.shape[:2])\n",
    "ax.plot(scale * np.arange(len(f_emcee)), f_emcee)\n",
    "ax.axhline(0, color=\"k\", lw=0.5)\n",
    "ax.axvline(scale * tau_emcee[0], color=\"k\", lw=3, alpha=0.3)\n",
    "ax.annotate(\"emcee\", xy=(1, 1), xycoords=\"axes fraction\",\n",
    "            ha=\"right\", va=\"top\", fontsize=16,\n",
    "            xytext=(-5, -5), textcoords=\"offset points\")\n",
    "ax.set_xlim(0, 0.03)\n",
    "ax.set_xticklabels([])\n",
    "ax.set_yticks([])\n",
    "ax.set_ylabel(\"autocorrelation\")\n",
    "\n",
    "ax = axes[1, 1]\n",
    "f_xo = get_function(np.exp(xo_samples[:, :, 0]))\n",
    "scale = time_xo / np.prod(xo_samples.shape[:2])\n",
    "ax.plot(scale * np.arange(len(f_xo)), f_xo)\n",
    "ax.axhline(0, color=\"k\", lw=0.5)\n",
    "ax.axvline(scale * tau_xo[0], color=\"k\", lw=3, alpha=0.3)\n",
    "ax.annotate(\"exoplanet\", xy=(1, 1), xycoords=\"axes fraction\",\n",
    "            ha=\"right\", va=\"top\", fontsize=16,\n",
    "            xytext=(-5, -5), textcoords=\"offset points\")\n",
    "ax.set_xlim(0, 0.03)\n",
    "ax.set_yticks([])\n",
    "ax.set_xlabel(\"walltime lag [sec]\")\n",
    "ax.set_ylabel(\"autocorrelation\")\n",
    "\n",
    "fig.subplots_adjust(hspace=0.05, wspace=0.15)\n",
    "fig.savefig(\"simple_rv.pdf\", bbox_inches=\"tight\");"
   ]
  },
  {
   "cell_type": "code",
   "execution_count": null,
   "metadata": {},
   "outputs": [],
   "source": []
  }
 ],
 "metadata": {
  "kernelspec": {
   "display_name": "Python 3",
   "language": "python",
   "name": "python3"
  },
  "language_info": {
   "codemirror_mode": {
    "name": "ipython",
    "version": 3
   },
   "file_extension": ".py",
   "mimetype": "text/x-python",
   "name": "python",
   "nbconvert_exporter": "python",
   "pygments_lexer": "ipython3",
   "version": "3.6.8"
  }
 },
 "nbformat": 4,
 "nbformat_minor": 2
}

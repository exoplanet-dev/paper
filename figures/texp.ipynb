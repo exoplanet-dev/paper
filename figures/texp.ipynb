{
 "cells": [
  {
   "cell_type": "code",
   "execution_count": null,
   "metadata": {},
   "outputs": [],
   "source": [
    "%matplotlib inline"
   ]
  },
  {
   "cell_type": "code",
   "execution_count": null,
   "metadata": {},
   "outputs": [],
   "source": [
    "%run notebook_setup"
   ]
  },
  {
   "cell_type": "code",
   "execution_count": null,
   "metadata": {},
   "outputs": [],
   "source": [
    "import numpy as np\n",
    "import matplotlib.pyplot as plt\n",
    "\n",
    "import exoplanet as xo\n",
    "\n",
    "# The light curve calculation requires an orbit\n",
    "orbit = xo.orbits.KeplerianOrbit(period=1)\n",
    "\n",
    "# Compute a limb-darkened light curve using starry\n",
    "texp = 0.02\n",
    "t = np.linspace(0.0, 0.06, 1000)\n",
    "u = [0.3, 0.2]\n",
    "star = xo.StarryLightCurve(u)\n",
    "light_curve_instant = star.get_light_curve(\n",
    "    orbit=orbit, r=0.1, t=t).eval()\n",
    "light_curve_exact = star.get_light_curve(\n",
    "    orbit=orbit, r=0.1, t=t, texp=texp, oversample=1000).eval()\n",
    "\n",
    "fig, axes = plt.subplots(4, 1, figsize=(5, 10), sharex=True)\n",
    "\n",
    "ax = axes[0]\n",
    "ax.plot(t, light_curve_instant * 1e3, \":k\")\n",
    "ax.plot(t, light_curve_exact * 1e3, \"k\")\n",
    "ax.set_ylabel(\"relative flux [ppt]\")\n",
    "\n",
    "for n in [3, 5, 7, 15, 51][::-1]:\n",
    "    for order in range(3):\n",
    "        ax = axes[order+1]\n",
    "        light_curve = star.get_light_curve(order=order,\n",
    "            orbit=orbit, r=0.1, t=t, texp=texp, oversample=n).eval()\n",
    "        ax.plot(t, np.log10(np.abs(light_curve - light_curve_exact)),\n",
    "                label=\"k = {0}\".format(n))\n",
    "        \n",
    "for i, ax in enumerate(axes[1:]):\n",
    "    ax.annotate(\"order = {0}\".format(i), (0, 1), xycoords=\"axes fraction\",\n",
    "                ha=\"left\", va=\"top\",\n",
    "                xytext=(5, -10), textcoords=\"offset points\",\n",
    "                fontsize=10)\n",
    "    for loc, name in [(-3, \"ppt\"), (-6, \"ppm\"), (-9, \"ppb\")]:\n",
    "        ax.axhline(loc, color=\"k\", alpha=0.3, lw=1)\n",
    "        ax.annotate(name, (t.max(), loc), va=\"top\", ha=\"right\",\n",
    "                    xytext=(-3, -2), textcoords=\"offset points\",\n",
    "                    fontsize=10, alpha=0.3)\n",
    "    ax.set_ylim(-10.2, -2.7)\n",
    "    ax.set_ylabel(\"log$_{10}$(flux error)\")\n",
    "\n",
    "ax.set_xlabel(\"time [days]\")\n",
    "ax.set_xlim(t.min(), t.max())\n",
    "fig.subplots_adjust(hspace=0.0);"
   ]
  },
  {
   "cell_type": "code",
   "execution_count": null,
   "metadata": {},
   "outputs": [],
   "source": []
  }
 ],
 "metadata": {
  "kernelspec": {
   "display_name": "Python 3",
   "language": "python",
   "name": "python3"
  },
  "language_info": {
   "codemirror_mode": {
    "name": "ipython",
    "version": 3
   },
   "file_extension": ".py",
   "mimetype": "text/x-python",
   "name": "python",
   "nbconvert_exporter": "python",
   "pygments_lexer": "ipython3",
   "version": "3.6.8"
  }
 },
 "nbformat": 4,
 "nbformat_minor": 2
}

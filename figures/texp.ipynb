{
 "cells": [
  {
   "cell_type": "code",
   "execution_count": null,
   "metadata": {},
   "outputs": [],
   "source": [
    "%matplotlib inline"
   ]
  },
  {
   "cell_type": "code",
   "execution_count": null,
   "metadata": {},
   "outputs": [],
   "source": [
    "%run notebook_setup"
   ]
  },
  {
   "cell_type": "code",
   "execution_count": null,
   "metadata": {},
   "outputs": [],
   "source": [
    "import numpy as np\n",
    "import matplotlib.pyplot as plt\n",
    "\n",
    "import exoplanet as xo\n",
    "\n",
    "import theano.tensor as tt\n",
    "from exoplanet.theano_ops.starry.integrated_limbdark import IntegratedLimbDarkOp\n",
    "op = IntegratedLimbDarkOp(tol=1e-12, min_depth=3, max_depth=50, include_contacts=False)\n",
    "\n",
    "orbit = xo.orbits.KeplerianOrbit(period=1.0, b=0.5)\n",
    "t = np.linspace(-1, 1, 10000)\n",
    "texp = 0.01\n",
    "u = [0.3, 0.2]\n",
    "star = xo.StarryLightCurve(u)\n",
    "\n",
    "x, y, z = orbit.get_relative_position(t)\n",
    "dx, dy, dz = orbit.get_relative_velocity(t)\n",
    "d2x, d2y, d2z = orbit.get_relative_acceleration(t)\n",
    "b = tt.sqrt(x**2 + y**2)\n",
    "db = (x * dx + y * dy) / b\n",
    "d2b = (dx**2 + dy**2 - db**2 + x*d2x + y*d2y) / b\n",
    "\n",
    "r = 0.1 + tt.zeros_like(b)\n",
    "dt = texp + tt.zeros_like(b)\n",
    "\n",
    "res = op(star.c_norm, r, x, dx, d2x, y, dy, d2y, z, dz, dt)\n",
    "\n",
    "light_curve_exact = star.get_light_curve(\n",
    "    orbit=orbit, r=0.1, t=t, texp=texp, oversample=1000).eval()\n",
    "plt.plot(t, light_curve_exact)\n",
    "\n",
    "light_curve = star.get_light_curve(order=0,\n",
    "    orbit=orbit, r=0.1, t=t, texp=texp, oversample=15).eval()\n",
    "plt.plot(t, light_curve)\n",
    "\n",
    "plt.plot(t, res[0].eval())"
   ]
  },
  {
   "cell_type": "code",
   "execution_count": null,
   "metadata": {},
   "outputs": [],
   "source": [
    "res[-1].eval(), len(t) * 15"
   ]
  },
  {
   "cell_type": "code",
   "execution_count": null,
   "metadata": {},
   "outputs": [],
   "source": [
    "plt.plot(t, np.log10(np.abs(light_curve - light_curve_exact)))\n",
    "plt.plot(t, np.log10(np.abs(res[0].eval() - light_curve_exact[:, 0])), label=\"quad\");\n",
    "# plt.plot(t, np.log10(np.abs(res0[0].eval() - light_curve_exact[:, 0])), label=\"linear\");\n",
    "plt.legend();"
   ]
  },
  {
   "cell_type": "code",
   "execution_count": null,
   "metadata": {},
   "outputs": [],
   "source": [
    "plt.plot(t, orbit._get_true_anomaly(t).eval())"
   ]
  },
  {
   "cell_type": "code",
   "execution_count": null,
   "metadata": {},
   "outputs": [],
   "source": [
    "plt.plot(t, x.eval())\n",
    "plt.plot(t, dx.eval())\n",
    "plt.plot(t, d2x.eval())"
   ]
  },
  {
   "cell_type": "code",
   "execution_count": null,
   "metadata": {},
   "outputs": [],
   "source": [
    "plt.plot(t, y.eval())\n",
    "plt.plot(t, dy.eval())\n",
    "plt.plot(t, d2y.eval())"
   ]
  },
  {
   "cell_type": "code",
   "execution_count": null,
   "metadata": {},
   "outputs": [],
   "source": [
    "be = db.eval()\n",
    "plt.plot(t[1:-1], 0.5*(be[2:] - be[:-2]) / np.diff(t[:-1]))\n",
    "plt.plot(t, d2b.eval())"
   ]
  },
  {
   "cell_type": "code",
   "execution_count": null,
   "metadata": {},
   "outputs": [],
   "source": [
    "r = 0.1 + tt.zeros_like(b)\n",
    "los = tt.ones_like(b)\n",
    "dt = texp + tt.zeros_like(b)\n",
    "\n",
    "res = op(star.c_norm, b, r, los, db, d2b, dt)\n",
    "\n",
    "plt.plot(t, res[0].eval())\n",
    "plt.plot(t, light_curve_exact)\n",
    "\n",
    "light_curve_exact = star.get_light_curve(\n",
    "    orbit=orbit, r=0.1, t=t, texp=texp, oversample=1000).eval()\n",
    "light_curve = star.get_light_curve(order=2,\n",
    "    orbit=orbit, r=0.1, t=t, texp=texp, oversample=7).eval()\n",
    "plt.plot(t, light_curve)"
   ]
  },
  {
   "cell_type": "code",
   "execution_count": null,
   "metadata": {},
   "outputs": [],
   "source": []
  },
  {
   "cell_type": "code",
   "execution_count": null,
   "metadata": {},
   "outputs": [],
   "source": []
  },
  {
   "cell_type": "code",
   "execution_count": null,
   "metadata": {},
   "outputs": [],
   "source": []
  },
  {
   "cell_type": "code",
   "execution_count": null,
   "metadata": {},
   "outputs": [],
   "source": [
    "import numpy as np\n",
    "import matplotlib.pyplot as plt\n",
    "\n",
    "import exoplanet as xo\n",
    "\n",
    "# The light curve calculation requires an orbit\n",
    "orbit = xo.orbits.KeplerianOrbit(period=1)\n",
    "\n",
    "# Compute a limb-darkened light curve using starry\n",
    "texp = 0.1\n",
    "t = np.linspace(0.0, 0.1, 1000)\n",
    "u = [0.3, 0.2]\n",
    "star = xo.StarryLightCurve(u)\n",
    "light_curve_instant = star.get_light_curve(\n",
    "    orbit=orbit, r=0.1, t=t).eval()\n",
    "light_curve_exact = star.get_light_curve(\n",
    "    orbit=orbit, r=0.1, t=t, texp=texp, oversample=1000).eval()\n",
    "\n",
    "fig, axes = plt.subplots(4, 1, figsize=(5, 10), sharex=True)\n",
    "\n",
    "ax = axes[0]\n",
    "ax.plot(t, light_curve_instant * 1e3, \":k\")\n",
    "ax.plot(t, light_curve_exact * 1e3, \"k\")\n",
    "ax.set_ylabel(\"relative flux [ppt]\")\n",
    "\n",
    "for n in [3, 5, 7, 15, 51][::-1]:\n",
    "    for order in range(3):\n",
    "        ax = axes[order+1]\n",
    "        light_curve = star.get_light_curve(order=order,\n",
    "            orbit=orbit, r=0.1, t=t, texp=texp, oversample=n).eval()\n",
    "        ax.plot(t, np.log10(np.abs(light_curve - light_curve_exact)),\n",
    "                label=\"k = {0}\".format(n))\n",
    "\n",
    "for i, ax in enumerate(axes[1:]):\n",
    "    ax.annotate(\"order = {0}\".format(i), (0, 1), xycoords=\"axes fraction\",\n",
    "                ha=\"left\", va=\"top\",\n",
    "                xytext=(5, -10), textcoords=\"offset points\",\n",
    "                fontsize=10)\n",
    "    for loc, name in [(-3, \"ppt\"), (-6, \"ppm\"), (-9, \"ppb\")]:\n",
    "        ax.axhline(loc, color=\"k\", alpha=0.3, lw=1)\n",
    "        ax.annotate(name, (t.max(), loc), va=\"top\", ha=\"right\",\n",
    "                    xytext=(-3, -2), textcoords=\"offset points\",\n",
    "                    fontsize=10, alpha=0.3)\n",
    "    ax.set_ylim(-10.2, -2.7)\n",
    "    ax.set_ylabel(\"log$_{10}$(flux error)\")\n",
    "\n",
    "ax.set_xlabel(\"time [days]\")\n",
    "ax.set_xlim(t.min(), t.max())\n",
    "fig.subplots_adjust(hspace=0.0);"
   ]
  },
  {
   "cell_type": "code",
   "execution_count": null,
   "metadata": {},
   "outputs": [],
   "source": []
  },
  {
   "cell_type": "code",
   "execution_count": null,
   "metadata": {},
   "outputs": [],
   "source": []
  },
  {
   "cell_type": "code",
   "execution_count": null,
   "metadata": {},
   "outputs": [],
   "source": [
    "plt.plot(t, np.log10(np.abs(res[0].eval() - light_curve_exact[:, 0])))"
   ]
  },
  {
   "cell_type": "code",
   "execution_count": null,
   "metadata": {},
   "outputs": [],
   "source": []
  },
  {
   "cell_type": "code",
   "execution_count": null,
   "metadata": {},
   "outputs": [],
   "source": []
  },
  {
   "cell_type": "code",
   "execution_count": null,
   "metadata": {},
   "outputs": [],
   "source": []
  }
 ],
 "metadata": {
  "kernelspec": {
   "display_name": "Python 3",
   "language": "python",
   "name": "python3"
  },
  "language_info": {
   "codemirror_mode": {
    "name": "ipython",
    "version": 3
   },
   "file_extension": ".py",
   "mimetype": "text/x-python",
   "name": "python",
   "nbconvert_exporter": "python",
   "pygments_lexer": "ipython3",
   "version": "3.6.8"
  }
 },
 "nbformat": 4,
 "nbformat_minor": 2
}

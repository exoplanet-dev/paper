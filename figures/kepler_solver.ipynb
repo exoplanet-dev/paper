{
 "cells": [
  {
   "cell_type": "code",
   "execution_count": null,
   "metadata": {},
   "outputs": [],
   "source": [
    "%matplotlib inline"
   ]
  },
  {
   "cell_type": "code",
   "execution_count": null,
   "metadata": {},
   "outputs": [],
   "source": [
    "assert 0"
   ]
  },
  {
   "cell_type": "code",
   "execution_count": null,
   "metadata": {},
   "outputs": [],
   "source": [
    "import numpy as np\n",
    "import matplotlib.pyplot as plt\n",
    "\n",
    "import theano\n",
    "import exoplanet as xo\n",
    "\n",
    "from radvel._kepler import kepler_array as radvel_kepler\n",
    "from batman._rsky import _getf as batman_kepler\n",
    "\n",
    "%run notebook_setup"
   ]
  },
  {
   "cell_type": "code",
   "execution_count": null,
   "metadata": {},
   "outputs": [],
   "source": [
    "np.random.seed(12345)\n",
    "E = np.random.uniform(-np.pi, np.pi, 5000)\n",
    "\n",
    "evals = np.linspace(0.01, 0.99, 10)\n",
    "\n",
    "times_rv_mu = np.empty_like(evals)\n",
    "times_rv_sd = np.empty_like(evals)\n",
    "err_rv = np.empty((len(evals), 4))\n",
    "times_xo_mu = np.empty_like(evals)\n",
    "times_xo_sd = np.empty_like(evals)\n",
    "err_xo = np.empty((len(evals), 4))\n",
    "times_bm_mu = np.empty_like(evals)\n",
    "times_bm_sd = np.empty_like(evals)\n",
    "err_bm = np.empty((len(evals), 4))\n",
    "\n",
    "for ie, e in enumerate(evals):\n",
    "    M = E - e * np.sin(E)\n",
    "    \n",
    "    print(\"batman...\")\n",
    "    E0 = 2.*np.arctan(np.sqrt((1. - e)/(1. + e)))\n",
    "    M0 = E0 - e*np.sin(E0);\n",
    "    t = 0.5*(M - M0)/np.pi\n",
    "    f_bm = batman_kepler(t, 0.0, 1.0, 1.0, 90.0, e, 0.0, 1, 1)\n",
    "    E_bm = 2*np.arctan(np.sqrt((1-e)/(1+e))*np.tan(0.5*f_bm))\n",
    "    assert np.all(np.isfinite(E_bm))\n",
    "    results = %timeit -o batman_kepler(t, 0.0, 1.0, 1.0, 90.0, e, 0.0, 1, 1)\n",
    "    times_bm_mu[ie] = np.mean(np.log10(results.all_runs)) - np.log10(results.loops)\n",
    "    times_bm_sd[ie] = np.std(np.log10(results.all_runs))\n",
    "    err = np.abs(E_bm - E)\n",
    "    err_bm[ie] = np.percentile(err, [16, 50, 84, 90])\n",
    "    \n",
    "    print(\"radvel...\")    \n",
    "    E_rv = radvel_kepler(M, e)\n",
    "    assert np.all(np.isfinite(E_rv))\n",
    "    results = %timeit -o radvel_kepler(M, e)\n",
    "    times_rv_mu[ie] = np.mean(np.log10(results.all_runs)) - np.log10(results.loops)\n",
    "    times_rv_sd[ie] = np.std(np.log10(results.all_runs))\n",
    "    err = np.abs(E_rv - E)\n",
    "    err_rv[ie] = np.percentile(err, [16, 50, 84, 90])\n",
    "    \n",
    "    print(\"exoplanet...\")\n",
    "    op = xo.theano_ops.kepler.KeplerOp()\n",
    "    func = theano.function([], op(M, e + np.zeros_like(M))[0])\n",
    "    E_xo = func()\n",
    "    assert np.all(np.isfinite(E_xo))\n",
    "    results = %timeit -o func()\n",
    "    times_xo_mu[ie] = np.mean(np.log10(results.all_runs)) - np.log10(results.loops)\n",
    "    times_xo_sd[ie] = np.std(np.log10(results.all_runs))\n",
    "    err = np.abs(E_xo - E)\n",
    "    err_xo[ie] = np.percentile(err, [16, 50, 84, 90])"
   ]
  },
  {
   "cell_type": "code",
   "execution_count": null,
   "metadata": {},
   "outputs": [],
   "source": [
    "fig, axes = plt.subplots(2, 1, figsize=(7, 7), sharex=True)\n",
    "\n",
    "ax = axes[0]\n",
    "ax.plot(evals, times_xo_mu - np.log10(len(E)), \"o-\", label=\"exoplanet\")\n",
    "ax.plot(evals, times_rv_mu - np.log10(len(E)), \"o-\", label=\"radvel\")\n",
    "ax.plot(evals, times_bm_mu - np.log10(len(E)), \"o-\", label=\"batman\")\n",
    "ax.set_ylabel(r\"$\\log_{10}$(runtime / sec)\")\n",
    "ax.yaxis.set_label_coords(-0.1, 0.5)\n",
    "ax.legend(fontsize=12, ncol=3)\n",
    "\n",
    "ax = axes[1]\n",
    "plt.plot(evals, np.log10(err_xo[:, 3]), \"o-\", label=\"exoplanet\")\n",
    "plt.plot(evals, np.log10(err_rv[:, 3]), \"o-\", label=\"radvel\")\n",
    "plt.plot(evals, np.log10(err_bm[:, 3]), \"o-\", label=\"batman\")\n",
    "ax.set_xlim(0, 1)\n",
    "ax.set_ylabel(\"90th percentile of\\n $\\log_{10}|E_\\mathrm{calc} - E_\\mathrm{true}|$\")\n",
    "ax.yaxis.set_label_coords(-0.1, 0.5)\n",
    "ax.set_xlabel(\"eccentricity\")\n",
    "\n",
    "fig.subplots_adjust(hspace=0.05)\n",
    "fig.savefig(\"kepler_solver.pdf\", bbox_inches=\"tight\");"
   ]
  },
  {
   "cell_type": "code",
   "execution_count": null,
   "metadata": {},
   "outputs": [],
   "source": []
  }
 ],
 "metadata": {
  "kernelspec": {
   "display_name": "Python 3",
   "language": "python",
   "name": "python3"
  },
  "language_info": {
   "codemirror_mode": {
    "name": "ipython",
    "version": 3
   },
   "file_extension": ".py",
   "mimetype": "text/x-python",
   "name": "python",
   "nbconvert_exporter": "python",
   "pygments_lexer": "ipython3",
   "version": "3.6.8"
  }
 },
 "nbformat": 4,
 "nbformat_minor": 2
}

{
 "cells": [
  {
   "cell_type": "code",
   "execution_count": 1,
   "metadata": {},
   "outputs": [],
   "source": [
    "%run proof_setup"
   ]
  },
  {
   "cell_type": "markdown",
   "metadata": {},
   "source": [
    "## Real case\n",
    "\n",
    "First, the real case is relatively simple.\n",
    "The integral that we want to do is:\n",
    "\n",
    "$$\n",
    "k_\\Delta(\\tau) = \\int_{t_i-\\Delta/2}^{t_i+\\Delta/2} \\mathrm{d}t \\,\\int_{t_j-\\Delta/2}^{t_j+\\Delta/2}\\mathrm{d}t^\\prime\\,k(t - t^\\prime)\n",
    "$$\n",
    "\n",
    "For celerite kernels it helps to make the assumtion that $t_j + \\Delta/2 < t_i - \\Delta/2$ (in other words, the exposure times do not overlap)."
   ]
  },
  {
   "cell_type": "code",
   "execution_count": 2,
   "metadata": {},
   "outputs": [
    {
     "name": "stdout",
     "output_type": "stream",
     "text": [
      "(exp(2*cr*dt) - 2*exp(cr*dt) + 1)*exp(-cr*dt)/(cr**2*dt**2)\n"
     ]
    }
   ],
   "source": [
    "import sympy as sm\n",
    "cr = sm.symbols(\"cr\", positive=True)\n",
    "ti, tj, dt, t, tp = sm.symbols(\"ti, tj, dt, t, tp\", real=True)\n",
    "\n",
    "k = sm.exp(-cr*(t - tp))\n",
    "k0 = k.subs([(t, ti), (tp, tj)])\n",
    "kint = sm.simplify(sm.integrate(\n",
    "    sm.integrate(k, (t, ti-dt/2, ti+dt/2)),\n",
    "    (tp, tj-dt/2, tj+dt/2)) / dt**2)\n",
    "res = sm.simplify(kint / k0)\n",
    "print(res)"
   ]
  },
  {
   "cell_type": "markdown",
   "metadata": {},
   "source": [
    "This is the factor that we want.\n",
    "Let's make sure that it is identical to what we have in the note."
   ]
  },
  {
   "cell_type": "code",
   "execution_count": 3,
   "metadata": {},
   "outputs": [
    {
     "data": {
      "text/plain": [
       "0"
      ]
     },
     "execution_count": 3,
     "metadata": {},
     "output_type": "execute_result"
    }
   ],
   "source": [
    "kD = 2 * (sm.cosh(cr*dt) - 1) / (cr*dt)**2\n",
    "sm.simplify(res.expand() - kD.expand())"
   ]
  },
  {
   "cell_type": "markdown",
   "metadata": {},
   "source": [
    "Excellent.\n",
    "\n",
    "## Complex case\n",
    "\n",
    "The complex cases proceeds similarly, but it's a bit more involved.\n",
    "In this case,\n",
    "\n",
    "$$\n",
    "k(\\tau) = (a + i\\,b)\\,\\exp(-(c+i\\,d)\\,(t_i-t_j))\n",
    "$$"
   ]
  },
  {
   "cell_type": "code",
   "execution_count": 4,
   "metadata": {},
   "outputs": [
    {
     "name": "stdout",
     "output_type": "stream",
     "text": [
      "(c*exp(2*dt*(c + I*d)) - 2*c*exp(dt*(c + I*d)) + c + I*d*exp(2*dt*(c + I*d)) - 2*I*d*exp(dt*(c + I*d)) + I*d)*exp(-c*dt - c*ti + c*tj - I*d*dt - I*d*ti + I*d*tj)/(dt**2*(c**3 + 3*I*c**2*d - 3*c*d**2 - I*d**3))\n"
     ]
    }
   ],
   "source": [
    "a, b, c, d, tpp = sm.symbols(\"a, b, c, d, tpp\", real=True)\n",
    "k = sm.exp(-(c + sm.I*d) * tp)\n",
    "kint = sm.simplify(sm.integrate(k, (tp, ti-dt/2, ti+dt/2)) *\n",
    "                   sm.integrate(k.subs([(tp, -tpp)]),\n",
    "                                (tpp, tj-dt/2, tj+dt/2)) / dt**2)\n",
    "\n",
    "res = sm.simplify(kint)\n",
    "print(res)"
   ]
  },
  {
   "cell_type": "markdown",
   "metadata": {},
   "source": [
    "That doesn't look so bad!\n",
    "\n",
    "But, I'm going to re-write it by hand and make sure that it's correct:"
   ]
  },
  {
   "cell_type": "code",
   "execution_count": 5,
   "metadata": {},
   "outputs": [
    {
     "data": {
      "text/plain": [
       "0"
      ]
     },
     "execution_count": 5,
     "metadata": {},
     "output_type": "execute_result"
    }
   ],
   "source": [
    "coeff = (c-sm.I*d)**2 / (dt*(c**2+d**2))**2\n",
    "coeff *= (sm.exp((c+sm.I*d)*dt) + sm.exp(-(c+sm.I*d)*dt)-2)\n",
    "sm.simplify(coeff * sm.exp(-(c+sm.I*d)*(ti-tj)) - kint)"
   ]
  },
  {
   "cell_type": "markdown",
   "metadata": {},
   "source": [
    "Good.\n",
    "\n",
    "Now we need to work out nice expressions for the real and imaginary parts of this.\n",
    "First, the real part.\n",
    "I found that it was easiest to look at the prefactors for the trig functions directly and simplify those.\n",
    "Here we go:"
   ]
  },
  {
   "cell_type": "code",
   "execution_count": 6,
   "metadata": {},
   "outputs": [],
   "source": [
    "res = (a+sm.I*b) * coeff\n",
    "A = sm.simplify((res.expand(complex=True) +\n",
    "                 sm.conjugate(res).expand(complex=True)) / 2)"
   ]
  },
  {
   "cell_type": "code",
   "execution_count": 7,
   "metadata": {},
   "outputs": [
    {
     "data": {
      "text/plain": [
       "(a*c**2*exp(2*c*dt) + a*c**2 - a*d**2*exp(2*c*dt) - a*d**2 + 2*b*c*d*exp(2*c*dt) + 2*b*c*d)*exp(-c*dt)/(dt**2*(c**4 + 2*c**2*d**2 + d**4))"
      ]
     },
     "execution_count": 7,
     "metadata": {},
     "output_type": "execute_result"
    }
   ],
   "source": [
    "sm.simplify(sm.poly(A, sm.cos(dt*d)).coeff_monomial(sm.cos(dt*d)))"
   ]
  },
  {
   "cell_type": "code",
   "execution_count": 8,
   "metadata": {},
   "outputs": [
    {
     "data": {
      "text/plain": [
       "(2*a*c*d*exp(2*c*dt) - 2*a*c*d - b*c**2*exp(2*c*dt) + b*c**2 + b*d**2*exp(2*c*dt) - b*d**2)*exp(-c*dt)/(dt**2*(c**4 + 2*c**2*d**2 + d**4))"
      ]
     },
     "execution_count": 8,
     "metadata": {},
     "output_type": "execute_result"
    }
   ],
   "source": [
    "sm.simplify(sm.poly(sm.poly(A, sm.cos(dt*d)).coeff_monomial(1), sm.sin(dt*d)).coeff_monomial(sm.sin(dt*d)))"
   ]
  },
  {
   "cell_type": "code",
   "execution_count": 9,
   "metadata": {},
   "outputs": [
    {
     "data": {
      "text/plain": [
       "2*(-a*c**2 + a*d**2 - 2*b*c*d)/(dt**2*(c**4 + 2*c**2*d**2 + d**4))"
      ]
     },
     "execution_count": 9,
     "metadata": {},
     "output_type": "execute_result"
    }
   ],
   "source": [
    "sm.simplify(sm.poly(sm.poly(A, sm.cos(dt*d)).coeff_monomial(1), sm.sin(dt*d)).coeff_monomial(1))"
   ]
  },
  {
   "cell_type": "markdown",
   "metadata": {},
   "source": [
    "Then, same thing for the imaginary part:"
   ]
  },
  {
   "cell_type": "code",
   "execution_count": 10,
   "metadata": {},
   "outputs": [],
   "source": [
    "B = sm.simplify(-sm.I * (res.expand(complex=True) -\n",
    "                         sm.conjugate(res).expand(complex=True)) / 2)"
   ]
  },
  {
   "cell_type": "code",
   "execution_count": 11,
   "metadata": {},
   "outputs": [
    {
     "data": {
      "text/plain": [
       "(-2*a*c*d*exp(2*c*dt) - 2*a*c*d + b*c**2*exp(2*c*dt) + b*c**2 - b*d**2*exp(2*c*dt) - b*d**2)*exp(-c*dt)/(dt**2*(c**4 + 2*c**2*d**2 + d**4))"
      ]
     },
     "execution_count": 11,
     "metadata": {},
     "output_type": "execute_result"
    }
   ],
   "source": [
    "sm.simplify(sm.poly(B, sm.cos(dt*d)).coeff_monomial(sm.cos(dt*d)))"
   ]
  },
  {
   "cell_type": "code",
   "execution_count": 12,
   "metadata": {},
   "outputs": [
    {
     "data": {
      "text/plain": [
       "(a*c**2*exp(2*c*dt) - a*c**2 - a*d**2*exp(2*c*dt) + a*d**2 + 2*b*c*d*exp(2*c*dt) - 2*b*c*d)*exp(-c*dt)/(dt**2*(c**4 + 2*c**2*d**2 + d**4))"
      ]
     },
     "execution_count": 12,
     "metadata": {},
     "output_type": "execute_result"
    }
   ],
   "source": [
    "sm.simplify(sm.poly(sm.poly(B, sm.cos(dt*d)).coeff_monomial(1), sm.sin(dt*d)).coeff_monomial(sm.sin(dt*d)))"
   ]
  },
  {
   "cell_type": "code",
   "execution_count": 13,
   "metadata": {},
   "outputs": [
    {
     "data": {
      "text/plain": [
       "2*(2*a*c*d - b*c**2 + b*d**2)/(dt**2*(c**4 + 2*c**2*d**2 + d**4))"
      ]
     },
     "execution_count": 13,
     "metadata": {},
     "output_type": "execute_result"
    }
   ],
   "source": [
    "sm.simplify(sm.poly(sm.poly(B, sm.cos(dt*d)).coeff_monomial(1), sm.sin(dt*d)).coeff_monomial(1))"
   ]
  },
  {
   "cell_type": "markdown",
   "metadata": {},
   "source": [
    "Ok.\n",
    "\n",
    "Now let's make sure that the simplified expressions are right."
   ]
  },
  {
   "cell_type": "code",
   "execution_count": 14,
   "metadata": {},
   "outputs": [],
   "source": [
    "C1 = (a*c**2 - a*d**2 + 2*b*c*d)\n",
    "C2 = (b*c**2 - b*d**2 - 2*a*c*d)\n",
    "cos_term = (sm.exp(c*dt) + sm.exp(-c*dt)) * sm.cos(d*dt) - 2\n",
    "sin_term = (sm.exp(c*dt) - sm.exp(-c*dt)) * sm.sin(d*dt)\n",
    "denom = dt**2 * (c**2 + d**2)**2\n",
    "\n",
    "A0 = (C1 * cos_term - C2 * sin_term) / denom\n",
    "B0 = (C2 * cos_term + C1 * sin_term) / denom"
   ]
  },
  {
   "cell_type": "code",
   "execution_count": 15,
   "metadata": {},
   "outputs": [
    {
     "data": {
      "text/plain": [
       "0"
      ]
     },
     "execution_count": 15,
     "metadata": {},
     "output_type": "execute_result"
    }
   ],
   "source": [
    "sm.simplify(A.expand() - A0.expand())"
   ]
  },
  {
   "cell_type": "code",
   "execution_count": 16,
   "metadata": {},
   "outputs": [
    {
     "data": {
      "text/plain": [
       "0"
      ]
     },
     "execution_count": 16,
     "metadata": {},
     "output_type": "execute_result"
    }
   ],
   "source": [
    "sm.simplify(B.expand() - B0.expand())"
   ]
  },
  {
   "cell_type": "markdown",
   "metadata": {},
   "source": [
    "Finally let's rewrite things in terms of hyperbolic trig functions."
   ]
  },
  {
   "cell_type": "code",
   "execution_count": 17,
   "metadata": {},
   "outputs": [
    {
     "data": {
      "text/plain": [
       "0"
      ]
     },
     "execution_count": 17,
     "metadata": {},
     "output_type": "execute_result"
    }
   ],
   "source": [
    "sm.simplify(2*(sm.cosh(c*dt) * sm.cos(d*dt) - 1).expand() - cos_term.expand())"
   ]
  },
  {
   "cell_type": "code",
   "execution_count": 18,
   "metadata": {},
   "outputs": [
    {
     "data": {
      "text/plain": [
       "0"
      ]
     },
     "execution_count": 18,
     "metadata": {},
     "output_type": "execute_result"
    }
   ],
   "source": [
    "sm.simplify(2*(sm.sinh(c*dt) * sm.sin(d*dt)).expand() - sin_term.expand())"
   ]
  },
  {
   "cell_type": "markdown",
   "metadata": {},
   "source": [
    "Looks good!"
   ]
  },
  {
   "cell_type": "code",
   "execution_count": null,
   "metadata": {},
   "outputs": [],
   "source": []
  }
 ],
 "metadata": {
  "kernelspec": {
   "display_name": "Python 3",
   "language": "python",
   "name": "python3"
  },
  "language_info": {
   "codemirror_mode": {
    "name": "ipython",
    "version": 3
   },
   "file_extension": ".py",
   "mimetype": "text/x-python",
   "name": "python",
   "nbconvert_exporter": "python",
   "pygments_lexer": "ipython3",
   "version": "3.6.8"
  }
 },
 "nbformat": 4,
 "nbformat_minor": 2
}

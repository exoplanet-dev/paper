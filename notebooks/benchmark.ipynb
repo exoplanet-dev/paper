{
 "cells": [
  {
   "cell_type": "code",
   "execution_count": null,
   "metadata": {},
   "outputs": [],
   "source": [
    "%matplotlib inline\n",
    "%config InlineBackend.figure_format = \"retina\"\n",
    "\n",
    "from matplotlib import rcParams\n",
    "rcParams[\"savefig.dpi\"] = 100\n",
    "rcParams[\"figure.dpi\"] = 100\n",
    "\n",
    "import numpy as np\n",
    "import matplotlib.pyplot as plt\n",
    "\n",
    "import tensorflow as tf\n",
    "session = tf.InteractiveSession()\n",
    "\n",
    "from exoplanet import transit\n",
    "from batman import _quadratic_ld"
   ]
  },
  {
   "cell_type": "code",
   "execution_count": null,
   "metadata": {},
   "outputs": [],
   "source": [
    "T = tf.float32\n",
    "\n",
    "c1 = tf.constant(0.5, dtype=T)\n",
    "c2 = tf.constant(0.5, dtype=T)\n",
    "ld = transit.QuadraticLimbDarkening(c1, c2)\n",
    "\n",
    "nums = 2**np.arange(10, 22)\n",
    "nums = 2**np.arange(19, 22)\n",
    "\n",
    "times = []\n",
    "bm_times = []\n",
    "for N in nums:\n",
    "    r_ref = tf.constant(0.1 + np.zeros(N), dtype=T)\n",
    "    z_ref = (1 + r_ref) * tf.constant(np.linspace(0.0, 1.0, N), dtype=T)\n",
    "    delta = transit.transit_depth(ld, z_ref, r_ref, n_integrate=500)\n",
    "    session.run(delta)\n",
    "    \n",
    "    res = %timeit -o session.run(delta)\n",
    "    times.append(res.best)\n",
    "    \n",
    "    args = [z_ref.eval(), 0.1, ld.c1.eval(), ld.c2.eval(), 1]\n",
    "    res = %timeit -o  _quadratic_ld._quadratic_ld(*args)\n",
    "    bm_times.append(res.best)\n",
    "\n",
    "    print(N, times[-1], bm_times[-1])"
   ]
  },
  {
   "cell_type": "code",
   "execution_count": null,
   "metadata": {},
   "outputs": [],
   "source": [
    "plt.loglog(nums, times, \".-\")\n",
    "plt.loglog(nums, bm_times, \".-\")"
   ]
  },
  {
   "cell_type": "code",
   "execution_count": null,
   "metadata": {},
   "outputs": [],
   "source": [
    "plt.loglog(nums, times, \".-\")\n",
    "plt.loglog(nums, bm_times, \".-\")"
   ]
  },
  {
   "cell_type": "code",
   "execution_count": null,
   "metadata": {},
   "outputs": [],
   "source": []
  }
 ],
 "metadata": {
  "kernelspec": {
   "display_name": "Python 3",
   "language": "python",
   "name": "python3"
  },
  "language_info": {
   "codemirror_mode": {
    "name": "ipython",
    "version": 3
   },
   "file_extension": ".py",
   "mimetype": "text/x-python",
   "name": "python",
   "nbconvert_exporter": "python",
   "pygments_lexer": "ipython3",
   "version": "3.6.1"
  }
 },
 "nbformat": 4,
 "nbformat_minor": 2
}

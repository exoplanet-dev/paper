{
 "cells": [
  {
   "cell_type": "code",
   "execution_count": null,
   "metadata": {},
   "outputs": [],
   "source": [
    "%matplotlib inline\n",
    "%config InlineBackend.figure_format = \"retina\"\n",
    "\n",
    "from matplotlib import rcParams\n",
    "rcParams[\"savefig.dpi\"] = 100\n",
    "rcParams[\"figure.dpi\"] = 100\n",
    "\n",
    "import numpy as np\n",
    "import matplotlib.pyplot as plt\n",
    "\n",
    "import tensorflow as tf\n",
    "session = tf.InteractiveSession()\n",
    "\n",
    "from exoplanet import transit"
   ]
  },
  {
   "cell_type": "code",
   "execution_count": null,
   "metadata": {},
   "outputs": [],
   "source": [
    "T = tf.float64\n",
    "\n",
    "c1 = tf.constant(0.5, dtype=T)\n",
    "c2 = tf.constant(0.5, dtype=T)\n",
    "ld = transit.QuadraticLimbDarkening(c1, c2)\n",
    "\n",
    "N = 1000\n",
    "r_ref = tf.constant(0.1 + np.zeros(N), dtype=T)\n",
    "z_ref = (1 + r_ref) * tf.constant(np.linspace(0.0, 1.0, N), dtype=T)\n",
    "\n",
    "r_var = tf.placeholder(T, (None, None))\n",
    "z_var = tf.placeholder(T, (None, None))\n",
    "delta_var = transit.transit_depth(ld, z_var, r_var, n_integrate=1000)\n",
    "\n",
    "delta_exact = transit.transit_depth(ld, z_var, r_var, n_integrate=500000)\n",
    "ns = 2**np.arange(1, 14)\n",
    "deltas = []\n",
    "for n in ns:\n",
    "    deltas.append(tf.abs(delta_exact - transit.transit_depth(ld, z_var, r_var, n_integrate=n)))\n",
    "delta_z = transit.transit_depth(ld, z_ref, r_ref, n_integrate=1000) - transit.transit_depth(ld, z_ref, r_ref, n_integrate=500000)"
   ]
  },
  {
   "cell_type": "code",
   "execution_count": null,
   "metadata": {},
   "outputs": [],
   "source": [
    "z_val = z.eval()\n",
    "rors = np.array([0.01, 0.04, 0.16, 0.64])\n",
    "shape = np.zeros((len(rors), len(z_val)))\n",
    "fd = {r_var: rors[:, None] + shape, z_var: z_val[None, :] + shape}\n",
    "\n",
    "ld_cs = [(0.5, 0.5), (0.1, 0.8), (0.8, 0.1)]\n",
    "\n",
    "err = np.empty((len(ld_cs), len(ns), len(rors), len(z_val)))\n",
    "for i, c in enumerate(ld_cs):\n",
    "    fd[c1] = c[0]\n",
    "    fd[c2] = c[1]\n",
    "    err[i] = session.run(deltas, feed_dict=fd)\n",
    "\n",
    "# fd = {r_var: rors[:, None] + shape, z_var: z_val[None, :] + shape}\n",
    "# session.run([deltas, delta_z], feed_dict=fd)"
   ]
  },
  {
   "cell_type": "code",
   "execution_count": null,
   "metadata": {},
   "outputs": [],
   "source": [
    "err.shape"
   ]
  },
  {
   "cell_type": "code",
   "execution_count": null,
   "metadata": {},
   "outputs": [],
   "source": [
    "fig, axes = plt.subplots(2, 1, figsize=(5, 6), sharex=True)\n",
    "\n",
    "for i, (c, s) in enumerate(zip(ld_cs, [\"solid\", \"dashed\", \"dotted\"])):\n",
    "    for j, ror in enumerate(rors):\n",
    "        color = \"C{0}\".format(j)\n",
    "        label = \"$r = {0:.2f}$\".format(ror) if s == \"solid\" else None\n",
    "\n",
    "        ax = axes[0]\n",
    "        ax.loglog(ns, err_val[i, j], color=color, linestyle=s, label=label)\n",
    "        \n",
    "        ax = axes[1]\n",
    "        ax.loglog(ns, err_val[i, j] / ror**2, color=color, linestyle=s, label=label)\n",
    "\n",
    "axes[0].axhline(1e-6, color=\"k\", lw=2.0, alpha=0.3)\n",
    "        \n",
    "axes[0].set_ylabel(\"$||\\delta_n - \\delta_\\mathrm{exact}||_\\infty$\")\n",
    "axes[1].set_ylabel(\"$||\\delta_n - \\delta_\\mathrm{exact}||_\\infty / r^2$\")\n",
    "axes[1].set_xlabel(\"number of integration annuli $[n]$\")\n",
    "axes[1].set_xlim(ns.min(), ns.max())\n",
    "axes[0].legend()\n",
    "\n",
    "fig.subplots_adjust(hspace=0.04)"
   ]
  },
  {
   "cell_type": "code",
   "execution_count": null,
   "metadata": {},
   "outputs": [],
   "source": [
    "fig, axes = plt.subplots(2, 1, figsize=(5, 6), sharex=True)\n",
    "\n",
    "for i, (c, s) in enumerate(zip(ld_cs, [\"solid\", \"dashed\", \"dotted\"])):\n",
    "    for j, ror in enumerate(rors):\n",
    "        color = \"C{0}\".format(j)\n",
    "        label = \"$r = {0:.2f}$\".format(ror) if s == \"solid\" else None\n",
    "\n",
    "        ax = axes[0]\n",
    "        ax.semilogy(z_val, np.abs(err_z[i, j]), color=color, linestyle=s, label=label)\n",
    "        \n",
    "        ax = axes[1]\n",
    "        ax.semilogy(z_val, np.abs(err_z[i, j] / ror**2), color=color, linestyle=s, label=label)\n",
    "\n",
    "axes[0].axhline(1e-6, color=\"k\", lw=2.0, alpha=0.3)\n",
    "\n",
    "axes[0].set_ylabel(\"$|\\delta_\\mathrm{1000} - \\delta_\\mathrm{exact}|$\")\n",
    "axes[1].set_ylabel(\"$|\\delta_\\mathrm{1000} - \\delta_\\mathrm{exact}| / r^2$\")\n",
    "axes[1].set_xlabel(\"impact parameter $z$\")\n",
    "axes[1].set_xlim(z_val.min(), z_val.max())\n",
    "axes[1].legend()\n",
    "\n",
    "fig.subplots_adjust(hspace=0.04)"
   ]
  },
  {
   "cell_type": "code",
   "execution_count": null,
   "metadata": {},
   "outputs": [],
   "source": [
    "ror = r.eval()\n",
    "nums = 2**np.arange(10, 22)\n",
    "times = []\n",
    "for n in nums[::-1]:\n",
    "    z_var = tf.constant(np.linspace(0.0, 1.0 + ror, n), dtype=T)\n",
    "    delta_var = transit.transit_depth(ld, z_var, r, n_integrate=1000)\n",
    "    \n",
    "    session.run(delta_var, feed_dict=fd)\n",
    "    res = %timeit -o session.run(delta_var, feed_dict=fd)\n",
    "    times.append(res.best)\n",
    "    break"
   ]
  },
  {
   "cell_type": "code",
   "execution_count": null,
   "metadata": {},
   "outputs": [],
   "source": [
    "plt.loglog(nums[:-1], times[:-1], \"o-\")"
   ]
  },
  {
   "cell_type": "code",
   "execution_count": null,
   "metadata": {},
   "outputs": [],
   "source": [
    "nums"
   ]
  },
  {
   "cell_type": "code",
   "execution_count": null,
   "metadata": {},
   "outputs": [],
   "source": []
  }
 ],
 "metadata": {
  "kernelspec": {
   "display_name": "Python 3",
   "language": "python",
   "name": "python3"
  },
  "language_info": {
   "codemirror_mode": {
    "name": "ipython",
    "version": 3
   },
   "file_extension": ".py",
   "mimetype": "text/x-python",
   "name": "python",
   "nbconvert_exporter": "python",
   "pygments_lexer": "ipython3",
   "version": "3.6.1"
  }
 },
 "nbformat": 4,
 "nbformat_minor": 2
}

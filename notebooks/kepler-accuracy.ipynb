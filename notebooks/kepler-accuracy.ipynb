{
 "cells": [
  {
   "cell_type": "code",
   "execution_count": null,
   "metadata": {},
   "outputs": [],
   "source": [
    "%matplotlib inline"
   ]
  },
  {
   "cell_type": "code",
   "execution_count": null,
   "metadata": {},
   "outputs": [],
   "source": [
    "%run notebook_setup\n",
    "import numpy as np\n",
    "import matplotlib.pyplot as plt\n",
    "from scipy.ndimage import gaussian_filter\n",
    "\n",
    "import exoplanet as xo"
   ]
  },
  {
   "cell_type": "code",
   "execution_count": null,
   "metadata": {},
   "outputs": [],
   "source": [
    "E_grid = np.linspace(0, np.pi, 201)\n",
    "e_grid = np.linspace(0.0, 1.0-1e-10, 210)\n",
    "E, e = np.meshgrid(E_grid, e_grid, indexing=\"ij\")\n",
    "M = E - e * np.sin(E)\n",
    "f = 2 * np.arctan2(np.sqrt(1+e) * np.tan(0.5*E), np.sqrt(1-e))\n",
    "\n",
    "f_val = xo.orbits.get_true_anomaly(M, e).eval()"
   ]
  },
  {
   "cell_type": "code",
   "execution_count": null,
   "metadata": {},
   "outputs": [],
   "source": [
    "fig, ax = plt.subplots(1, 1, figsize=(4, 4))\n",
    "\n",
    "delta = np.log10(np.clip(np.abs((f - f_val)) % (2*np.pi), 1e-19, 100))\n",
    "# print(delta.max())\n",
    "# delta = gaussian_filter(delta, 8.0)\n",
    "\n",
    "C = ax.contour(e_grid, E_grid, delta,\n",
    "               levels=[-19.0, -18.0, -17.0, -16.0, -15.0, -14.0],\n",
    "               colors=\"k\", linestyles=\"solid\")\n",
    "ax.clabel(C, C.levels, inline=True, fmt=\"{0:.0f}\".format, fontsize=10)\n",
    "\n",
    "ax.set_xlabel(\"eccentricity\")\n",
    "ax.set_ylabel(\"eccentric anomaly\")\n",
    "ax.set_title(\"$\\log_{10} |f_\\mathrm{calc} - f_\\mathrm{true}| $\", fontsize=14);"
   ]
  },
  {
   "cell_type": "code",
   "execution_count": null,
   "metadata": {},
   "outputs": [],
   "source": [
    "plt.scatter(e, delta, c=M, s=2, edgecolor=\"none\")\n",
    "plt.colorbar(label=\"mean anomaly\");"
   ]
  },
  {
   "cell_type": "code",
   "execution_count": null,
   "metadata": {},
   "outputs": [],
   "source": [
    "delta = np.log10(np.clip(np.abs((f - f_val)) % (2*np.pi), 1e-30, 100.0))\n",
    "delta_s = gaussian_filter(delta, 2.0)\n",
    "\n",
    "inds = np.argsort(delta.flatten())\n",
    "inds = inds[delta.flatten()[inds] > -25]\n",
    "delta_f = delta.flatten()[inds]\n",
    "e_f = e.flatten()[inds]\n",
    "M_f = M.flatten()[inds]\n",
    "\n",
    "fig, axes = plt.subplots(2, 2, figsize=(8, 8))\n",
    "\n",
    "ax = axes[0, 0]\n",
    "ax.scatter(e_f, delta_f, c=M_f, s=2, edgecolor=\"none\")\n",
    "\n",
    "ax = axes[1, 1]\n",
    "ax.scatter(delta_f, M_f, c=e_f, s=2, edgecolor=\"none\")\n",
    "\n",
    "ax = axes[1, 0]\n",
    "C = ax.contourf(e_grid, E_grid, delta_s, levels=np.arange(-19, -12).astype(float),\n",
    "                extend=\"min\")"
   ]
  },
  {
   "cell_type": "code",
   "execution_count": null,
   "metadata": {},
   "outputs": [],
   "source": [
    "delta_s"
   ]
  },
  {
   "cell_type": "code",
   "execution_count": null,
   "metadata": {},
   "outputs": [],
   "source": [
    "np.arange(-19, -15)"
   ]
  },
  {
   "cell_type": "code",
   "execution_count": null,
   "metadata": {},
   "outputs": [],
   "source": []
  }
 ],
 "metadata": {
  "kernelspec": {
   "display_name": "Python 3",
   "language": "python",
   "name": "python3"
  },
  "language_info": {
   "codemirror_mode": {
    "name": "ipython",
    "version": 3
   },
   "file_extension": ".py",
   "mimetype": "text/x-python",
   "name": "python",
   "nbconvert_exporter": "python",
   "pygments_lexer": "ipython3",
   "version": "3.6.8"
  }
 },
 "nbformat": 4,
 "nbformat_minor": 2
}
